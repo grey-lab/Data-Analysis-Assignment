{
 "cells": [
  {
   "cell_type": "code",
   "execution_count": null,
   "id": "27e49876",
   "metadata": {},
   "outputs": [],
   "source": [
    "import pandas as pd\n",
    "data=pd.read_csv('cinema.csv')\n",
    "print(data)\n",
    "\n",
    "df=pd.DataFrame(data)\n",
    "print(df)\n",
    "\n",
    "df['budget']=df['budget'].div(1000000)\n",
    "df\n",
    "\n",
    "df['Gross']= df['Gross'].div(1000000)\n",
    "df\n",
    "\n",
    "df.rename(columns = {'budget':'budget(Million $)' , 'Gross':'Gross(Million $)'}, inplace = True)\n",
    "df\n",
    "\n",
    "df['profit']=df['Gross(Million $)']-df['budget(Million $)']\n",
    "df\n",
    "\n",
    "df.sort_values(by ='profit', inplace =  True, ascending= False )\n",
    "df\n",
    "\n",
    "top_10=df.head(10)\n",
    "top_10\n",
    "\n",
    "top10=pd.DataFrame(top_10)\n",
    "top10\n",
    "\n",
    "import matplotlib.pyplot as plt\n",
    "plt.scatter(df['budget(Million $)'],df['profit'])\n",
    "plt.xlabel('budget Million $')\n",
    "plt.ylabel('profit')\n",
    "plt.show\n",
    "\n",
    "new_df = df[df['profit'] < 0]\n",
    "new_df\n",
    "\n",
    "neg_profit=pd.DataFrame(new_df)\n",
    "neg_profit\n",
    "\n",
    "x = list(df.iloc[:,3])\n",
    "y = list(df.iloc[:,0])\n",
    "plt.bar(x,y)\n",
    "plt.xlabel('bars')\n",
    "plt.ylabel('genre_1')\n",
    "plt.show\n",
    "\n"
   ]
  }
 ],
 "metadata": {
  "kernelspec": {
   "display_name": "Python 3 (ipykernel)",
   "language": "python",
   "name": "python3"
  },
  "language_info": {
   "codemirror_mode": {
    "name": "ipython",
    "version": 3
   },
   "file_extension": ".py",
   "mimetype": "text/x-python",
   "name": "python",
   "nbconvert_exporter": "python",
   "pygments_lexer": "ipython3",
   "version": "3.9.12"
  }
 },
 "nbformat": 4,
 "nbformat_minor": 5
}
